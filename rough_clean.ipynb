{
 "cells": [
  {
   "cell_type": "markdown",
   "metadata": {},
   "source": [
    "<div align=\"center\">\n",
    "\n",
    "# RIO Airbnb - Data Cleaning Jupyter Notebook \n",
    "**Latest Update:** _25th November 2022_\n",
    "\n",
    "</div>\n",
    "\n",
    "#### _Import required libraries_"
   ]
  },
  {
   "cell_type": "code",
   "execution_count": null,
   "metadata": {},
   "outputs": [],
   "source": [
    "import pandas as pd\n",
    "import numpy as np\n",
    "from scipy import stats\n",
    "import statistics as sts\n",
    "import datetime as dt\n",
    "\n",
    "import cleaninglib.functions as cln"
   ]
  },
  {
   "cell_type": "markdown",
   "metadata": {},
   "source": [
    "#### *Import initial dataset*"
   ]
  },
  {
   "cell_type": "code",
   "execution_count": null,
   "metadata": {},
   "outputs": [],
   "source": [
    "listings_df = pd.read_csv(\"dataset/listings.csv\", index_col=False)\n",
    "listings_df.describe()"
   ]
  },
  {
   "cell_type": "markdown",
   "metadata": {},
   "source": [
    "#### *Remove unnecessary data columns*"
   ]
  },
  {
   "cell_type": "code",
   "execution_count": null,
   "metadata": {},
   "outputs": [],
   "source": [
    "REDUNDANT_COLUMNS = [\n",
    "    'listing_url', 'scrape_id', 'last_scraped', 'source', 'host_id', 'host_url', 'host_name', 'host_location', 'host_thumbnail_url', 'host_picture_url', 'host_verifications', \n",
    "    'host_identity_verified', 'neighbourhood', 'property_type', 'bathrooms', 'calendar_updated', 'calendar_last_scraped'\n",
    "]\n",
    "for col in REDUNDANT_COLUMNS:\n",
    "    listings_df.pop(col)   "
   ]
  },
  {
   "cell_type": "markdown",
   "metadata": {},
   "source": [
    "#### *Fill in & replace selected value columns*"
   ]
  },
  {
   "cell_type": "code",
   "execution_count": null,
   "metadata": {},
   "outputs": [],
   "source": [
    "PERCENTAGES = ['host_response_rate', \"host_acceptance_rate\"]\n",
    "NULL_VALUES = {\n",
    "    'license': 'none',\n",
    "    'host_response_time': 'does not respond',\n",
    "    'reviews_per_month': 0,\n",
    "    'bathrooms_text': \"0 private baths\"\n",
    "}\n",
    "\n",
    "# Fill in null values in certain columns\n",
    "for nul in NULL_VALUES:\n",
    "    listings_df.loc[listings_df[nul].isnull(), nul] = NULL_VALUES[nul]\n",
    "\n",
    "# Convert all values in 'license' to categorical values\n",
    "listings_df.loc[listings_df[\"license\"] == \"Exempt\", \"license\"] = \"exempted\"\n",
    "listings_df.loc[~listings_df['license'].str.contains('none|exempted'), 'license'] = \"have\"\n",
    "\n",
    "# Clean the 'price' column by removing the '$' and the ',' symbols as well as converting all values to \"float\" data type\n",
    "listings_df['price'] = listings_df['price'].map(lambda x: float(x.lstrip('$').replace(\",\", \"\")))"
   ]
  },
  {
   "cell_type": "markdown",
   "metadata": {},
   "source": [
    "#### *Convert values from `bathrooms_text` to individual columns of `bathroom_num` and `bathroom_type`*"
   ]
  },
  {
   "cell_type": "code",
   "execution_count": null,
   "metadata": {},
   "outputs": [],
   "source": [
    "# Divide\n",
    "NEW_COLUMNS = ['bathroom_type', 'bathroom_num']\n",
    "\n",
    "for col in NEW_COLUMNS:\n",
    "    listings_df[col] = listings_df[\"bathrooms_text\"].map(lambda x: cln.bath_clean(x)[col])"
   ]
  },
  {
   "cell_type": "markdown",
   "metadata": {},
   "source": [
    "#### *Convert categorical columns to one-hot vectors*"
   ]
  },
  {
   "cell_type": "code",
   "execution_count": null,
   "metadata": {},
   "outputs": [],
   "source": [
    "TRUE_FALSE = ['has_availability', 'instant_bookable', \"host_is_superhost\"]\n",
    "ONE_HOT_VECTORS = ['license']\n",
    "\n",
    "# Convert all t/f columns to true/false & add them to the ONE_HOT_VECTORS list\n",
    "for tf in TRUE_FALSE:\n",
    "    listings_df.loc[listings_df[tf] == 't', tf] = f\"{tf}_true\"\n",
    "    listings_df.loc[listings_df[tf] == 'f', tf] = f\"{tf}_false\"\n",
    "    ONE_HOT_VECTORS.append(tf)\n",
    "\n",
    "# Convert all categorical columns into one-hot vectors\n",
    "for column in ONE_HOT_VECTORS:\n",
    "    listings_df = listings_df.join(pd.get_dummies(listings_df[column]))\n",
    "    listings_df.pop(column)"
   ]
  },
  {
   "cell_type": "markdown",
   "metadata": {},
   "source": [
    "#### *Remove all $0 listings and listings with z-score over +/-2.5*"
   ]
  },
  {
   "cell_type": "code",
   "execution_count": null,
   "metadata": {},
   "outputs": [],
   "source": [
    "# Remove all listings with price of $0\n",
    "listings_df = listings_df[listings_df['price'] != 0]\n",
    "\n",
    "# Add a 'price_zscore' column\n",
    "listings_df['price_zscore'] = stats.zscore(listings_df[\"price\"])\n",
    "\n",
    "# Remove all rows with a price z-score of more than +-2.5\n",
    "listings_df = listings_df[abs(listings_df[\"price_zscore\"]) < 2.5]\n",
    "\n",
    "listings_df.describe()"
   ]
  },
  {
   "cell_type": "markdown",
   "metadata": {},
   "source": [
    "<div align=\"center\">\n",
    "\n",
    "# *Dataset Abstraction*\n",
    "\n",
    "#### Run the code below the view some abstract info about the data\n",
    "\n",
    "</div>"
   ]
  },
  {
   "cell_type": "code",
   "execution_count": null,
   "metadata": {},
   "outputs": [],
   "source": [
    "\n",
    "prices = listings_df[\"price\"].to_list()\n",
    "col_num = len(listings_df.columns)\n",
    "row_num = len(listings_df['name'])\n",
    "max_revs = max(listings_df[\"number_of_reviews\"])\n",
    "\n",
    "max_price = max(prices)\n",
    "min_price = min(prices)\n",
    "mean = sts.mean(prices)\n",
    "std_dev = sts.stdev(prices)\n",
    "\n",
    "print(f\"Maximum price in dataset: ${max_price:.02f}\")\n",
    "print(f\"Minimum price in dataset: ${min_price:.02f}\")\n",
    "print(f\"Mean of price in dataset: ${mean:.02f}\")\n",
    "print(f\"Standard deviation of price in dataset: ${std_dev:.02f}\\n\")\n",
    "\n",
    "print(f\"Total # of columns after rough cleaning: {col_num}\")\n",
    "print(f\"Total # of rows after rough cleaning: {row_num:,}\\n\")\n",
    "\n",
    "print(f\"Highest # of reviews for a listing: {max_revs:,}\")\n",
    "\n",
    "print(\"Max z-score: \" + str(min(listings_df['price_zscore'])))"
   ]
  },
  {
   "cell_type": "code",
   "execution_count": null,
   "metadata": {},
   "outputs": [],
   "source": [
    "city_of_la = listings_df[listings_df['neighbourhood_group_cleansed'] == \"City of Los Angeles\"]"
   ]
  },
  {
   "cell_type": "markdown",
   "metadata": {},
   "source": [
    "<div align=\"center\">\n",
    "\n",
    "# *References*\n",
    "\n",
    "</div>\n",
    "\n",
    "#### **Export DataFrame to CSV**\n",
    "Please close Excel or any other application that's opening the CSV before exporting, otherwise you'll get `[Errno 13] Permission Denied`"
   ]
  },
  {
   "cell_type": "code",
   "execution_count": null,
   "metadata": {},
   "outputs": [],
   "source": [
    "listings_df.to_csv(\"dataset/cleaned_listings.csv\", index=False)"
   ]
  },
  {
   "cell_type": "markdown",
   "metadata": {},
   "source": [
    "#### **Check for unique variables in each column**"
   ]
  },
  {
   "cell_type": "code",
   "execution_count": null,
   "metadata": {},
   "outputs": [],
   "source": [
    "COLUMN_NAME = input(\"Enter column name here: \")\n",
    "\n",
    "\n",
    "display_list = []\n",
    "for row in listings_df[COLUMN_NAME]: \n",
    "    if row not in display_list:\n",
    "        display_list.append(row)\n",
    "\n",
    "\n",
    "display_list"
   ]
  },
  {
   "cell_type": "markdown",
   "metadata": {},
   "source": [
    "#### **Find percentage in of certain values**"
   ]
  },
  {
   "cell_type": "code",
   "execution_count": null,
   "metadata": {},
   "outputs": [],
   "source": [
    "PERCENTAGES = {\n",
    "    \"sum\": 0\n",
    "}\n",
    "\n",
    "listings_df.loc[listings_df[\"host_identity_verified\"].isnull(), \"host_identity_verified\"] = \"na\"\n",
    "\n",
    "for row in listings_df['host_identity_verified']:\n",
    "    if row not in PERCENTAGES:\n",
    "        PERCENTAGES[row] = 0\n",
    "    PERCENTAGES[row] += 1\n",
    "    PERCENTAGES[\"sum\"] += 1\n",
    "    \n",
    "print(\"Percentage: \" + str(\n",
    "    PERCENTAGES[\"t\"] / PERCENTAGES['sum']\n",
    "))"
   ]
  }
 ],
 "metadata": {
  "kernelspec": {
   "display_name": "Python 3.10.6 64-bit",
   "language": "python",
   "name": "python3"
  },
  "language_info": {
   "codemirror_mode": {
    "name": "ipython",
    "version": 3
   },
   "file_extension": ".py",
   "mimetype": "text/x-python",
   "name": "python",
   "nbconvert_exporter": "python",
   "pygments_lexer": "ipython3",
   "version": "3.10.6"
  },
  "orig_nbformat": 4,
  "vscode": {
   "interpreter": {
    "hash": "31ae5793047d30b35e94f1d6ff8b178f9f7aa7aa449c0b5e996a066a7e57100c"
   }
  }
 },
 "nbformat": 4,
 "nbformat_minor": 2
}
