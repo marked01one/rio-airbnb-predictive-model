{
 "cells": [
  {
   "attachments": {},
   "cell_type": "markdown",
   "metadata": {},
   "source": [
    "<div align=\"center\">\n",
    "\n",
    "# RIO Airbnb Project - Text Mining\n",
    "**Latest Update:** *27th February 2023*\n",
    "\n",
    "</div>\n",
    "\n",
    "---"
   ]
  },
  {
   "attachments": {},
   "cell_type": "markdown",
   "metadata": {},
   "source": [
    "#### **Import required libraries & dataset**"
   ]
  },
  {
   "cell_type": "code",
   "execution_count": 1,
   "metadata": {},
   "outputs": [],
   "source": [
    "import sys, os, re\n",
    "sys.path.append(os.path.abspath(\"../\"))\n",
    "\n",
    "import pandas as pd\n",
    "import numpy as np\n",
    "import matplotlib.pyplot as plt\n",
    "import seaborn as sns\n",
    "\n",
    "from sklearn.model_selection import train_test_split\n",
    "from sklearn import metrics\n",
    "\n",
    "\n",
    "\n",
    "import airbnblib.cleaning as cln"
   ]
  },
  {
   "cell_type": "code",
   "execution_count": 10,
   "metadata": {},
   "outputs": [
    {
     "data": {
      "text/plain": [
       "'listings_cleaned_20230303.csv'"
      ]
     },
     "execution_count": 10,
     "metadata": {},
     "output_type": "execute_result"
    }
   ],
   "source": [
    "# Gets the dataset CSV\n",
    "newest_listing_csv = os.listdir(\"../dataset/listings/\")[-1]\n",
    "listings_df = pd.read_csv(f\"../dataset/listings/{newest_listing_csv}\")\n",
    "\n",
    "newest_listing_csv"
   ]
  },
  {
   "cell_type": "code",
   "execution_count": 2,
   "metadata": {},
   "outputs": [
    {
     "data": {
      "text/plain": [
       "'listings_cleaned_20230303.zip'"
      ]
     },
     "execution_count": 2,
     "metadata": {},
     "output_type": "execute_result"
    }
   ],
   "source": [
    "# Gets the latest zipped cleaned version of the dataset\n",
    "newest_listing_zip = os.listdir(\"../dataset_zipped/listings/\")[-1]\n",
    "listings_df = pd.read_csv(f\"../dataset_zipped/listings/{newest_listing_zip}\")\n",
    "\n",
    "newest_listing_zip"
   ]
  },
  {
   "attachments": {},
   "cell_type": "markdown",
   "metadata": {},
   "source": [
    "#### **Revert text columns from string to list if necessary**"
   ]
  },
  {
   "cell_type": "code",
   "execution_count": 12,
   "metadata": {},
   "outputs": [],
   "source": [
    "for col in ['name', 'description', 'neighborhood_overview', 'host_about']:\n",
    "  listings_df[col] = listings_df[col].map(lambda x: x.rstrip(\"']\").lstrip(\"['\").split(\"', '\"))\n",
    "\n",
    "listings_df['name'][1]"
   ]
  },
  {
   "cell_type": "code",
   "execution_count": null,
   "metadata": {},
   "outputs": [],
   "source": [
    "listings_df = listings_df.drop(['Unnamed: 0.1', 'Unnamed: 0', 'amenities'], axis=1)"
   ]
  },
  {
   "attachments": {},
   "cell_type": "markdown",
   "metadata": {},
   "source": [
    "#### **Remove HTML tags & non UTF-8 characters**"
   ]
  },
  {
   "cell_type": "code",
   "execution_count": 3,
   "metadata": {},
   "outputs": [
    {
     "name": "stderr",
     "output_type": "stream",
     "text": [
      "C:\\Users\\Tran Minh Khoi\\AppData\\Local\\Temp\\ipykernel_5508\\3784589182.py:10: MarkupResemblesLocatorWarning: The input looks more like a filename than markup. You may want to open this file and pass the filehandle into Beautiful Soup.\n",
      "  bytes(BeautifulSoup(text).get_text(separator=' ') if (type(text) == str) else '', 'utf-8').decode('utf-8', 'ignore')\n",
      "C:\\Users\\Tran Minh Khoi\\AppData\\Local\\Temp\\ipykernel_5508\\3784589182.py:10: MarkupResemblesLocatorWarning: The input looks more like a URL than markup. You may want to use an HTTP client like requests to get the document behind the URL, and feed that document to Beautiful Soup.\n",
      "  bytes(BeautifulSoup(text).get_text(separator=' ') if (type(text) == str) else '', 'utf-8').decode('utf-8', 'ignore')\n"
     ]
    }
   ],
   "source": [
    "from bs4 import BeautifulSoup\n",
    "\n",
    "def utf8_only(text) -> str:\n",
    "  return \"\".join(\n",
    "    re.findall(\"[a-zA-Z' ]\",\n",
    "      bytes(BeautifulSoup(text).get_text(separator=' ') if (type(text) == str) else '', 'utf-8').decode('utf-8', 'ignore')\n",
    "  ))\n",
    "for col in ['name', 'description', 'neighborhood_overview', 'host_about']:\n",
    "  listings_df[col] = listings_df[col].apply(utf8_only)"
   ]
  },
  {
   "cell_type": "code",
   "execution_count": 20,
   "metadata": {},
   "outputs": [
    {
     "data": {
      "text/html": [
       "<div>\n",
       "<style scoped>\n",
       "    .dataframe tbody tr th:only-of-type {\n",
       "        vertical-align: middle;\n",
       "    }\n",
       "\n",
       "    .dataframe tbody tr th {\n",
       "        vertical-align: top;\n",
       "    }\n",
       "\n",
       "    .dataframe thead th {\n",
       "        text-align: right;\n",
       "    }\n",
       "</style>\n",
       "<table border=\"1\" class=\"dataframe\">\n",
       "  <thead>\n",
       "    <tr style=\"text-align: right;\">\n",
       "      <th></th>\n",
       "      <th>name</th>\n",
       "      <th>description</th>\n",
       "      <th>neighborhood_overview</th>\n",
       "      <th>host_about</th>\n",
       "    </tr>\n",
       "  </thead>\n",
       "  <tbody>\n",
       "    <tr>\n",
       "      <th>0</th>\n",
       "      <td>Panoramic Ocean View Venice Beach</td>\n",
       "      <td>Craftsmen style penthouse with ocean view from...</td>\n",
       "      <td>About as close to the beach as you can live in...</td>\n",
       "      <td>Serious yoga practice  Been studying for  year...</td>\n",
       "    </tr>\n",
       "    <tr>\n",
       "      <th>1</th>\n",
       "      <td>Spanish Bungalow Guest House LA CA  plus nights</td>\n",
       "      <td>PRIVATE GUEST HOUSE The space Private Guest ho...</td>\n",
       "      <td>Local LA  Community  shops and restaurants in ...</td>\n",
       "      <td>male  educated  Healthcare ProfessionalCycle r...</td>\n",
       "    </tr>\n",
       "    <tr>\n",
       "      <th>2</th>\n",
       "      <td>Boho Chic FlatSteps to Beach</td>\n",
       "      <td>Bright airy quiet  bdr located just steps from...</td>\n",
       "      <td>You are in one of the beach locations in Los A...</td>\n",
       "      <td>HealthWellness Professional Author Passionate ...</td>\n",
       "    </tr>\n",
       "    <tr>\n",
       "      <th>3</th>\n",
       "      <td>Guest House With Its Own EntranceExit and Hot Tub</td>\n",
       "      <td>Fully selfcontained separate structure with it...</td>\n",
       "      <td>We are close to Venice without the hassle of n...</td>\n",
       "      <td>Easy going hostess Enjoy your stay I am an exp...</td>\n",
       "    </tr>\n",
       "    <tr>\n",
       "      <th>4</th>\n",
       "      <td>Amazing bright elegant condo park front UPGRADED</td>\n",
       "      <td>Unit upgraded with new bamboo flooring brand ...</td>\n",
       "      <td></td>\n",
       "      <td>Paolo Privitera CEO EvensiPaolo MIT MBA Phone ...</td>\n",
       "    </tr>\n",
       "  </tbody>\n",
       "</table>\n",
       "</div>"
      ],
      "text/plain": [
       "                                                name  \\\n",
       "0                  Panoramic Ocean View Venice Beach   \n",
       "1    Spanish Bungalow Guest House LA CA  plus nights   \n",
       "2                       Boho Chic FlatSteps to Beach   \n",
       "3  Guest House With Its Own EntranceExit and Hot Tub   \n",
       "4   Amazing bright elegant condo park front UPGRADED   \n",
       "\n",
       "                                         description  \\\n",
       "0  Craftsmen style penthouse with ocean view from...   \n",
       "1  PRIVATE GUEST HOUSE The space Private Guest ho...   \n",
       "2  Bright airy quiet  bdr located just steps from...   \n",
       "3  Fully selfcontained separate structure with it...   \n",
       "4   Unit upgraded with new bamboo flooring brand ...   \n",
       "\n",
       "                               neighborhood_overview  \\\n",
       "0  About as close to the beach as you can live in...   \n",
       "1  Local LA  Community  shops and restaurants in ...   \n",
       "2  You are in one of the beach locations in Los A...   \n",
       "3  We are close to Venice without the hassle of n...   \n",
       "4                                                      \n",
       "\n",
       "                                          host_about  \n",
       "0  Serious yoga practice  Been studying for  year...  \n",
       "1  male  educated  Healthcare ProfessionalCycle r...  \n",
       "2  HealthWellness Professional Author Passionate ...  \n",
       "3  Easy going hostess Enjoy your stay I am an exp...  \n",
       "4  Paolo Privitera CEO EvensiPaolo MIT MBA Phone ...  "
      ]
     },
     "execution_count": 20,
     "metadata": {},
     "output_type": "execute_result"
    }
   ],
   "source": [
    "listings_df[['name', 'description', 'neighborhood_overview', 'host_about']].head()"
   ]
  },
  {
   "attachments": {},
   "cell_type": "markdown",
   "metadata": {},
   "source": [
    "<h2 align='center'>Text preprocessing with NLTK</h2>\n",
    "\n",
    "#### Create a small sample size"
   ]
  },
  {
   "cell_type": "code",
   "execution_count": 9,
   "metadata": {},
   "outputs": [],
   "source": [
    "text_df = listings_df[['name', 'description', 'neighborhood_overview', 'host_about']].copy()"
   ]
  },
  {
   "attachments": {},
   "cell_type": "markdown",
   "metadata": {},
   "source": [
    "#### 1. Tokenizing & removing stopwords"
   ]
  },
  {
   "cell_type": "code",
   "execution_count": 10,
   "metadata": {},
   "outputs": [
    {
     "data": {
      "text/html": [
       "<div>\n",
       "<style scoped>\n",
       "    .dataframe tbody tr th:only-of-type {\n",
       "        vertical-align: middle;\n",
       "    }\n",
       "\n",
       "    .dataframe tbody tr th {\n",
       "        vertical-align: top;\n",
       "    }\n",
       "\n",
       "    .dataframe thead th {\n",
       "        text-align: right;\n",
       "    }\n",
       "</style>\n",
       "<table border=\"1\" class=\"dataframe\">\n",
       "  <thead>\n",
       "    <tr style=\"text-align: right;\">\n",
       "      <th></th>\n",
       "      <th>name</th>\n",
       "      <th>description</th>\n",
       "      <th>neighborhood_overview</th>\n",
       "      <th>host_about</th>\n",
       "    </tr>\n",
       "  </thead>\n",
       "  <tbody>\n",
       "    <tr>\n",
       "      <th>0</th>\n",
       "      <td>[Panoramic, Ocean, View, Venice, Beach]</td>\n",
       "      <td>[Craftsmen, style, penthouse, ocean, view, roo...</td>\n",
       "      <td>[close, beach, live, Venice, boardwalk]</td>\n",
       "      <td>[Serious, yoga, practice, studying, years, Spe...</td>\n",
       "    </tr>\n",
       "    <tr>\n",
       "      <th>1</th>\n",
       "      <td>[Spanish, Bungalow, Guest, House, LA, CA, plus...</td>\n",
       "      <td>[PRIVATE, GUEST, HOUSE, space, Private, Guest,...</td>\n",
       "      <td>[Local, LA, Community, shops, restaurants, wal...</td>\n",
       "      <td>[male, educated, Healthcare, ProfessionalCycle...</td>\n",
       "    </tr>\n",
       "    <tr>\n",
       "      <th>2</th>\n",
       "      <td>[Boho, Chic, FlatSteps, Beach]</td>\n",
       "      <td>[Bright, airy, quiet, bdr, located, steps, sec...</td>\n",
       "      <td>[one, beach, locations, Los, Angeles, Peninsul...</td>\n",
       "      <td>[HealthWellness, Professional, Author, Passion...</td>\n",
       "    </tr>\n",
       "    <tr>\n",
       "      <th>3</th>\n",
       "      <td>[Guest, House, EntranceExit, Hot, Tub]</td>\n",
       "      <td>[Fully, selfcontained, separate, structure, en...</td>\n",
       "      <td>[close, Venice, without, hassle, parking, spaces]</td>\n",
       "      <td>[Easy, going, hostess, Enjoy, stay, experience...</td>\n",
       "    </tr>\n",
       "    <tr>\n",
       "      <th>4</th>\n",
       "      <td>[Amazing, bright, elegant, condo, park, front,...</td>\n",
       "      <td>[Unit, upgraded, new, bamboo, flooring, brand,...</td>\n",
       "      <td>[]</td>\n",
       "      <td>[Paolo, Privitera, CEO, EvensiPaolo, MIT, MBA,...</td>\n",
       "    </tr>\n",
       "  </tbody>\n",
       "</table>\n",
       "</div>"
      ],
      "text/plain": [
       "                                                name  \\\n",
       "0            [Panoramic, Ocean, View, Venice, Beach]   \n",
       "1  [Spanish, Bungalow, Guest, House, LA, CA, plus...   \n",
       "2                     [Boho, Chic, FlatSteps, Beach]   \n",
       "3             [Guest, House, EntranceExit, Hot, Tub]   \n",
       "4  [Amazing, bright, elegant, condo, park, front,...   \n",
       "\n",
       "                                         description  \\\n",
       "0  [Craftsmen, style, penthouse, ocean, view, roo...   \n",
       "1  [PRIVATE, GUEST, HOUSE, space, Private, Guest,...   \n",
       "2  [Bright, airy, quiet, bdr, located, steps, sec...   \n",
       "3  [Fully, selfcontained, separate, structure, en...   \n",
       "4  [Unit, upgraded, new, bamboo, flooring, brand,...   \n",
       "\n",
       "                               neighborhood_overview  \\\n",
       "0            [close, beach, live, Venice, boardwalk]   \n",
       "1  [Local, LA, Community, shops, restaurants, wal...   \n",
       "2  [one, beach, locations, Los, Angeles, Peninsul...   \n",
       "3  [close, Venice, without, hassle, parking, spaces]   \n",
       "4                                                 []   \n",
       "\n",
       "                                          host_about  \n",
       "0  [Serious, yoga, practice, studying, years, Spe...  \n",
       "1  [male, educated, Healthcare, ProfessionalCycle...  \n",
       "2  [HealthWellness, Professional, Author, Passion...  \n",
       "3  [Easy, going, hostess, Enjoy, stay, experience...  \n",
       "4  [Paolo, Privitera, CEO, EvensiPaolo, MIT, MBA,...  "
      ]
     },
     "execution_count": 10,
     "metadata": {},
     "output_type": "execute_result"
    }
   ],
   "source": [
    "from nltk.corpus import stopwords\n",
    "\n",
    "stop_words = set(stopwords.words('english'))\n",
    "\n",
    "def remove_stopwords(entry):\n",
    "  return [w for w in \"\".join(entry).split(\" \") if not (w.lower() in stop_words or w == '')]\n",
    "\n",
    "for col in text_df.columns:\n",
    "  text_df[col] = text_df[col].apply(remove_stopwords)\n",
    "text_df.head()"
   ]
  },
  {
   "attachments": {},
   "cell_type": "markdown",
   "metadata": {},
   "source": [
    "#### Stemming: `PorterStemmer()`"
   ]
  },
  {
   "cell_type": "code",
   "execution_count": 34,
   "metadata": {},
   "outputs": [
    {
     "data": {
      "text/html": [
       "<div>\n",
       "<style scoped>\n",
       "    .dataframe tbody tr th:only-of-type {\n",
       "        vertical-align: middle;\n",
       "    }\n",
       "\n",
       "    .dataframe tbody tr th {\n",
       "        vertical-align: top;\n",
       "    }\n",
       "\n",
       "    .dataframe thead th {\n",
       "        text-align: right;\n",
       "    }\n",
       "</style>\n",
       "<table border=\"1\" class=\"dataframe\">\n",
       "  <thead>\n",
       "    <tr style=\"text-align: right;\">\n",
       "      <th></th>\n",
       "      <th>name</th>\n",
       "      <th>description</th>\n",
       "      <th>neighborhood_overview</th>\n",
       "      <th>host_about</th>\n",
       "    </tr>\n",
       "  </thead>\n",
       "  <tbody>\n",
       "    <tr>\n",
       "      <th>0</th>\n",
       "      <td>[panoram, ocean, view, venic, beach]</td>\n",
       "      <td>[craftsmen, style, penthous, ocean, view, room...</td>\n",
       "      <td>[close, beach, live, venic, boardwalk]</td>\n",
       "      <td>[seriou, yoga, practic, studi, year, spend, th...</td>\n",
       "    </tr>\n",
       "    <tr>\n",
       "      <th>1</th>\n",
       "      <td>[spanish, bungalow, guest, hous, la, ca, plu, ...</td>\n",
       "      <td>[privat, guest, hous, space, privat, guest, ho...</td>\n",
       "      <td>[local, la, commun, shop, restaur, walk, dista...</td>\n",
       "      <td>[male, educ, healthcar, professionalcycl, run,...</td>\n",
       "    </tr>\n",
       "    <tr>\n",
       "      <th>2</th>\n",
       "      <td>[boho, chic, flatstep, beach]</td>\n",
       "      <td>[bright, airi, quiet, bdr, locat, step, seclud...</td>\n",
       "      <td>[one, beach, locat, lo, angel, peninsula, mari...</td>\n",
       "      <td>[healthwel, profession, author, passion, trave...</td>\n",
       "    </tr>\n",
       "    <tr>\n",
       "      <th>3</th>\n",
       "      <td>[guest, hous, entranceexit, hot, tub]</td>\n",
       "      <td>[fulli, selfcontain, separ, structur, entrance...</td>\n",
       "      <td>[close, venic, without, hassl, park, space]</td>\n",
       "      <td>[easi, go, hostess, enjoy, stay, experienc, tr...</td>\n",
       "    </tr>\n",
       "    <tr>\n",
       "      <th>4</th>\n",
       "      <td>[amaz, bright, eleg, condo, park, front, upgrad]</td>\n",
       "      <td>[unit, upgrad, new, bamboo, floor, brand, new,...</td>\n",
       "      <td>[]</td>\n",
       "      <td>[paolo, privitera, ceo, evensipaolo, mit, mba,...</td>\n",
       "    </tr>\n",
       "  </tbody>\n",
       "</table>\n",
       "</div>"
      ],
      "text/plain": [
       "                                                name  \\\n",
       "0               [panoram, ocean, view, venic, beach]   \n",
       "1  [spanish, bungalow, guest, hous, la, ca, plu, ...   \n",
       "2                      [boho, chic, flatstep, beach]   \n",
       "3              [guest, hous, entranceexit, hot, tub]   \n",
       "4   [amaz, bright, eleg, condo, park, front, upgrad]   \n",
       "\n",
       "                                         description  \\\n",
       "0  [craftsmen, style, penthous, ocean, view, room...   \n",
       "1  [privat, guest, hous, space, privat, guest, ho...   \n",
       "2  [bright, airi, quiet, bdr, locat, step, seclud...   \n",
       "3  [fulli, selfcontain, separ, structur, entrance...   \n",
       "4  [unit, upgrad, new, bamboo, floor, brand, new,...   \n",
       "\n",
       "                               neighborhood_overview  \\\n",
       "0             [close, beach, live, venic, boardwalk]   \n",
       "1  [local, la, commun, shop, restaur, walk, dista...   \n",
       "2  [one, beach, locat, lo, angel, peninsula, mari...   \n",
       "3        [close, venic, without, hassl, park, space]   \n",
       "4                                                 []   \n",
       "\n",
       "                                          host_about  \n",
       "0  [seriou, yoga, practic, studi, year, spend, th...  \n",
       "1  [male, educ, healthcar, professionalcycl, run,...  \n",
       "2  [healthwel, profession, author, passion, trave...  \n",
       "3  [easi, go, hostess, enjoy, stay, experienc, tr...  \n",
       "4  [paolo, privitera, ceo, evensipaolo, mit, mba,...  "
      ]
     },
     "execution_count": 34,
     "metadata": {},
     "output_type": "execute_result"
    }
   ],
   "source": [
    "from nltk.stem.porter import PorterStemmer\n",
    "stemmer = PorterStemmer()\n",
    "porter_df = text_df.copy()\n",
    "\n",
    "def porter_stemming(word_list):\n",
    "  return [stemmer.stem(word) for word in word_list]\n",
    "\n",
    "for col in porter_df.columns:\n",
    "  porter_df[col] = porter_df[col].apply(porter_stemming)\n",
    "porter_df.head()"
   ]
  },
  {
   "attachments": {},
   "cell_type": "markdown",
   "metadata": {},
   "source": [
    "#### Lemmatization: `WordNetLemmatizer()`"
   ]
  },
  {
   "cell_type": "code",
   "execution_count": 39,
   "metadata": {},
   "outputs": [
    {
     "data": {
      "text/html": [
       "<div>\n",
       "<style scoped>\n",
       "    .dataframe tbody tr th:only-of-type {\n",
       "        vertical-align: middle;\n",
       "    }\n",
       "\n",
       "    .dataframe tbody tr th {\n",
       "        vertical-align: top;\n",
       "    }\n",
       "\n",
       "    .dataframe thead th {\n",
       "        text-align: right;\n",
       "    }\n",
       "</style>\n",
       "<table border=\"1\" class=\"dataframe\">\n",
       "  <thead>\n",
       "    <tr style=\"text-align: right;\">\n",
       "      <th></th>\n",
       "      <th>name</th>\n",
       "      <th>description</th>\n",
       "      <th>neighborhood_overview</th>\n",
       "      <th>host_about</th>\n",
       "    </tr>\n",
       "  </thead>\n",
       "  <tbody>\n",
       "    <tr>\n",
       "      <th>0</th>\n",
       "      <td>[Panoramic, Ocean, View, Venice, Beach]</td>\n",
       "      <td>[Craftsmen, style, penthouse, ocean, view, roo...</td>\n",
       "      <td>[close, beach, live, Venice, boardwalk]</td>\n",
       "      <td>[Serious, yoga, practice, studying, year, Spen...</td>\n",
       "    </tr>\n",
       "    <tr>\n",
       "      <th>1</th>\n",
       "      <td>[Spanish, Bungalow, Guest, House, LA, CA, plus...</td>\n",
       "      <td>[PRIVATE, GUEST, HOUSE, space, Private, Guest,...</td>\n",
       "      <td>[Local, LA, Community, shop, restaurant, walki...</td>\n",
       "      <td>[male, educated, Healthcare, ProfessionalCycle...</td>\n",
       "    </tr>\n",
       "    <tr>\n",
       "      <th>2</th>\n",
       "      <td>[Boho, Chic, FlatSteps, Beach]</td>\n",
       "      <td>[Bright, airy, quiet, bdr, located, step, secl...</td>\n",
       "      <td>[one, beach, location, Los, Angeles, Peninsula...</td>\n",
       "      <td>[HealthWellness, Professional, Author, Passion...</td>\n",
       "    </tr>\n",
       "    <tr>\n",
       "      <th>3</th>\n",
       "      <td>[Guest, House, EntranceExit, Hot, Tub]</td>\n",
       "      <td>[Fully, selfcontained, separate, structure, en...</td>\n",
       "      <td>[close, Venice, without, hassle, parking, space]</td>\n",
       "      <td>[Easy, going, hostess, Enjoy, stay, experience...</td>\n",
       "    </tr>\n",
       "    <tr>\n",
       "      <th>4</th>\n",
       "      <td>[Amazing, bright, elegant, condo, park, front,...</td>\n",
       "      <td>[Unit, upgraded, new, bamboo, flooring, brand,...</td>\n",
       "      <td>[]</td>\n",
       "      <td>[Paolo, Privitera, CEO, EvensiPaolo, MIT, MBA,...</td>\n",
       "    </tr>\n",
       "  </tbody>\n",
       "</table>\n",
       "</div>"
      ],
      "text/plain": [
       "                                                name  \\\n",
       "0            [Panoramic, Ocean, View, Venice, Beach]   \n",
       "1  [Spanish, Bungalow, Guest, House, LA, CA, plus...   \n",
       "2                     [Boho, Chic, FlatSteps, Beach]   \n",
       "3             [Guest, House, EntranceExit, Hot, Tub]   \n",
       "4  [Amazing, bright, elegant, condo, park, front,...   \n",
       "\n",
       "                                         description  \\\n",
       "0  [Craftsmen, style, penthouse, ocean, view, roo...   \n",
       "1  [PRIVATE, GUEST, HOUSE, space, Private, Guest,...   \n",
       "2  [Bright, airy, quiet, bdr, located, step, secl...   \n",
       "3  [Fully, selfcontained, separate, structure, en...   \n",
       "4  [Unit, upgraded, new, bamboo, flooring, brand,...   \n",
       "\n",
       "                               neighborhood_overview  \\\n",
       "0            [close, beach, live, Venice, boardwalk]   \n",
       "1  [Local, LA, Community, shop, restaurant, walki...   \n",
       "2  [one, beach, location, Los, Angeles, Peninsula...   \n",
       "3   [close, Venice, without, hassle, parking, space]   \n",
       "4                                                 []   \n",
       "\n",
       "                                          host_about  \n",
       "0  [Serious, yoga, practice, studying, year, Spen...  \n",
       "1  [male, educated, Healthcare, ProfessionalCycle...  \n",
       "2  [HealthWellness, Professional, Author, Passion...  \n",
       "3  [Easy, going, hostess, Enjoy, stay, experience...  \n",
       "4  [Paolo, Privitera, CEO, EvensiPaolo, MIT, MBA,...  "
      ]
     },
     "execution_count": 39,
     "metadata": {},
     "output_type": "execute_result"
    }
   ],
   "source": [
    "from nltk.stem import WordNetLemmatizer\n",
    "wnl = WordNetLemmatizer()\n",
    "lem_df = text_df.copy()\n",
    "\n",
    "def wnl_lemmatizer(word_list):\n",
    "  return [wnl.lemmatize(word) for word in word_list]\n",
    "\n",
    "for col in lem_df.columns:\n",
    "  lem_df[col] = lem_df[col].apply(wnl_lemmatizer)\n",
    "lem_df.head()"
   ]
  },
  {
   "cell_type": "code",
   "execution_count": 12,
   "metadata": {},
   "outputs": [
    {
     "data": {
      "text/html": [
       "<div>\n",
       "<style scoped>\n",
       "    .dataframe tbody tr th:only-of-type {\n",
       "        vertical-align: middle;\n",
       "    }\n",
       "\n",
       "    .dataframe tbody tr th {\n",
       "        vertical-align: top;\n",
       "    }\n",
       "\n",
       "    .dataframe thead th {\n",
       "        text-align: right;\n",
       "    }\n",
       "</style>\n",
       "<table border=\"1\" class=\"dataframe\">\n",
       "  <thead>\n",
       "    <tr style=\"text-align: right;\">\n",
       "      <th></th>\n",
       "      <th>name</th>\n",
       "      <th>description</th>\n",
       "      <th>neighborhood_overview</th>\n",
       "      <th>host_about</th>\n",
       "    </tr>\n",
       "  </thead>\n",
       "  <tbody>\n",
       "    <tr>\n",
       "      <th>0</th>\n",
       "      <td>[Panoramic, Ocean, View, Venice, Beach]</td>\n",
       "      <td>[Craftsmen, style, penthouse, ocean, view, roo...</td>\n",
       "      <td>[close, beach, live, Venice, boardwalk]</td>\n",
       "      <td>[Serious, yoga, practice, studying, years, Spe...</td>\n",
       "    </tr>\n",
       "    <tr>\n",
       "      <th>1</th>\n",
       "      <td>[Spanish, Bungalow, Guest, House, LA, CA, plus...</td>\n",
       "      <td>[PRIVATE, GUEST, HOUSE, space, Private, Guest,...</td>\n",
       "      <td>[Local, LA, Community, shops, restaurants, wal...</td>\n",
       "      <td>[male, educated, Healthcare, ProfessionalCycle...</td>\n",
       "    </tr>\n",
       "    <tr>\n",
       "      <th>2</th>\n",
       "      <td>[Boho, Chic, FlatSteps, Beach]</td>\n",
       "      <td>[Bright, airy, quiet, bdr, located, steps, sec...</td>\n",
       "      <td>[one, beach, locations, Los, Angeles, Peninsul...</td>\n",
       "      <td>[HealthWellness, Professional, Author, Passion...</td>\n",
       "    </tr>\n",
       "    <tr>\n",
       "      <th>3</th>\n",
       "      <td>[Guest, House, EntranceExit, Hot, Tub]</td>\n",
       "      <td>[Fully, selfcontained, separate, structure, en...</td>\n",
       "      <td>[close, Venice, without, hassle, parking, spaces]</td>\n",
       "      <td>[Easy, going, hostess, Enjoy, stay, experience...</td>\n",
       "    </tr>\n",
       "    <tr>\n",
       "      <th>4</th>\n",
       "      <td>[Amazing, bright, elegant, condo, park, front,...</td>\n",
       "      <td>[Unit, upgraded, new, bamboo, flooring, brand,...</td>\n",
       "      <td>[]</td>\n",
       "      <td>[Paolo, Privitera, CEO, EvensiPaolo, MIT, MBA,...</td>\n",
       "    </tr>\n",
       "  </tbody>\n",
       "</table>\n",
       "</div>"
      ],
      "text/plain": [
       "                                                name  \\\n",
       "0            [Panoramic, Ocean, View, Venice, Beach]   \n",
       "1  [Spanish, Bungalow, Guest, House, LA, CA, plus...   \n",
       "2                     [Boho, Chic, FlatSteps, Beach]   \n",
       "3             [Guest, House, EntranceExit, Hot, Tub]   \n",
       "4  [Amazing, bright, elegant, condo, park, front,...   \n",
       "\n",
       "                                         description  \\\n",
       "0  [Craftsmen, style, penthouse, ocean, view, roo...   \n",
       "1  [PRIVATE, GUEST, HOUSE, space, Private, Guest,...   \n",
       "2  [Bright, airy, quiet, bdr, located, steps, sec...   \n",
       "3  [Fully, selfcontained, separate, structure, en...   \n",
       "4  [Unit, upgraded, new, bamboo, flooring, brand,...   \n",
       "\n",
       "                               neighborhood_overview  \\\n",
       "0            [close, beach, live, Venice, boardwalk]   \n",
       "1  [Local, LA, Community, shops, restaurants, wal...   \n",
       "2  [one, beach, locations, Los, Angeles, Peninsul...   \n",
       "3  [close, Venice, without, hassle, parking, spaces]   \n",
       "4                                                 []   \n",
       "\n",
       "                                          host_about  \n",
       "0  [Serious, yoga, practice, studying, years, Spe...  \n",
       "1  [male, educated, Healthcare, ProfessionalCycle...  \n",
       "2  [HealthWellness, Professional, Author, Passion...  \n",
       "3  [Easy, going, hostess, Enjoy, stay, experience...  \n",
       "4  [Paolo, Privitera, CEO, EvensiPaolo, MIT, MBA,...  "
      ]
     },
     "execution_count": 12,
     "metadata": {},
     "output_type": "execute_result"
    }
   ],
   "source": [
    "listings_df[['name', 'description', 'neighborhood_overview', 'host_about']].head()"
   ]
  },
  {
   "cell_type": "code",
   "execution_count": 16,
   "metadata": {},
   "outputs": [
    {
     "name": "stdout",
     "output_type": "stream",
     "text": [
      "['']\n"
     ]
    }
   ],
   "source": [
    "print(listings_df['neighborhood_overview'][4])"
   ]
  },
  {
   "attachments": {},
   "cell_type": "markdown",
   "metadata": {},
   "source": [
    "#### Get common statistics for the text columns"
   ]
  },
  {
   "cell_type": "code",
   "execution_count": 23,
   "metadata": {},
   "outputs": [
    {
     "name": "stdout",
     "output_type": "stream",
     "text": [
      "Average for 'name': 5 words\n",
      "Average for 'description': 70 words\n",
      "Average for 'neighborhood overview': 34 words\n",
      "Average for 'host about': 35 words\n"
     ]
    }
   ],
   "source": [
    "import statistics\n",
    "\n",
    "for col in ['name', 'description', 'neighborhood_overview', 'host_about']:\n",
    "  print(\"Average for '{}': {} words\".format(\n",
    "    \" \".join(col.split('_')), round(statistics.mean([len(name) for name in listings_df[col] if name != ['']]))\n",
    "  ))"
   ]
  },
  {
   "cell_type": "code",
   "execution_count": 13,
   "metadata": {},
   "outputs": [],
   "source": [
    "from datetime import datetime\n",
    "\n",
    "today = str(datetime.now()).split(\" \")[0].replace('-', '')\n",
    "listings_df.to_csv(f\"../dataset/listings/listings_cleaned_{today}.csv\", index=False)"
   ]
  }
 ],
 "metadata": {
  "kernelspec": {
   "display_name": "env",
   "language": "python",
   "name": "python3"
  },
  "language_info": {
   "codemirror_mode": {
    "name": "ipython",
    "version": 3
   },
   "file_extension": ".py",
   "mimetype": "text/x-python",
   "name": "python",
   "nbconvert_exporter": "python",
   "pygments_lexer": "ipython3",
   "version": "3.10.6"
  },
  "orig_nbformat": 4,
  "vscode": {
   "interpreter": {
    "hash": "1b0302e7f4330f86fa3e9400acbfa701441994ca921a2724a0cb216734b0e110"
   }
  }
 },
 "nbformat": 4,
 "nbformat_minor": 2
}
