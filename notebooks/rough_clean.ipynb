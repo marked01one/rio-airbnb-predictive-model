{
 "cells": [
  {
   "attachments": {},
   "cell_type": "markdown",
   "metadata": {},
   "source": [
    "<div align=\"center\">\n",
    "\n",
    "# RIO Airbnb - Data Cleaning \n",
    "**Latest Update:** _10th December 2022_\n",
    "</div>\n",
    "\n",
    "---\n",
    "#### _Import required libraries_"
   ]
  },
  {
   "cell_type": "code",
   "execution_count": 1,
   "metadata": {},
   "outputs": [],
   "source": [
    "import sys, os\n",
    "sys.path.append(os.path.abspath(\"../\"))\n",
    "\n",
    "import numpy as np\n",
    "import pandas as pd\n",
    "import scipy as scp\n",
    "from sklearn.preprocessing import OneHotEncoder\n",
    "\n",
    "import airbnblib.cleaning as cln"
   ]
  },
  {
   "attachments": {},
   "cell_type": "markdown",
   "metadata": {},
   "source": [
    "#### *Import initial dataset*"
   ]
  },
  {
   "cell_type": "code",
   "execution_count": 2,
   "metadata": {},
   "outputs": [],
   "source": [
    "listings_df = pd.read_parquet(\"../dataset_zipped/listings.parquet\")"
   ]
  },
  {
   "cell_type": "markdown",
   "metadata": {},
   "source": [
    "#### *Remove unnecessary data columns*"
   ]
  },
  {
   "cell_type": "code",
   "execution_count": 3,
   "metadata": {},
   "outputs": [],
   "source": [
    "listings_df = listings_df.drop([\n",
    "    'listing_url', 'scrape_id', 'last_scraped', 'source', 'host_id', 'host_url', 'host_name', 'host_location', 'picture_url', 'host_thumbnail_url', 'host_picture_url', 'host_verifications', \n",
    "    'host_identity_verified', 'neighbourhood', 'property_type', 'bathrooms', 'calendar_updated', 'calendar_last_scraped', 'minimum_minimum_nights', 'maximum_minimum_nights',\n",
    "    'minimum_maximum_nights', 'maximum_maximum_nights', 'minimum_nights_avg_ntm', 'first_review', 'calculated_host_listings_count_entire_homes', 'calculated_host_listings_count_private_rooms',\n",
    "    'calculated_host_listings_count_shared_rooms', 'host_listings_count', 'host_total_listings_count'\n",
    "], axis=1)   "
   ]
  },
  {
   "cell_type": "markdown",
   "metadata": {},
   "source": [
    "#### *Fill in & replace selected value columns*"
   ]
  },
  {
   "cell_type": "code",
   "execution_count": 4,
   "metadata": {},
   "outputs": [],
   "source": [
    "NULL_VALUES = {\n",
    "    'license': 'none',\n",
    "    'host_response_time': 'does not respond',\n",
    "    'reviews_per_month': 0,\n",
    "    'bathrooms_text': \"0 private baths\"\n",
    "}\n",
    "\n",
    "# Fill in null values in certain columns\n",
    "for nul in NULL_VALUES:\n",
    "    listings_df.loc[listings_df[nul].isnull(), nul] = NULL_VALUES[nul]\n",
    "\n",
    "# Convert all values in 'license' to categorical values\n",
    "listings_df.loc[listings_df[\"license\"] == \"Exempt\", \"license\"] = \"exempted\"\n",
    "listings_df.loc[~listings_df['license'].str.contains('none|exempted'), 'license'] = \"have\"\n",
    "\n",
    "# Clean the 'price' column by removing the '$' and the ',' symbols as well as converting all values to \"float\" data type\n",
    "listings_df['price'] = listings_df['price'].map(lambda x: float(x.lstrip('$').replace(\",\", \"\")))"
   ]
  },
  {
   "cell_type": "markdown",
   "metadata": {},
   "source": [
    "#### *Convert values from `bathrooms_text` to individual columns of `bathroom_num (float)` and `bathroom_type (vectors)`*"
   ]
  },
  {
   "cell_type": "code",
   "execution_count": 5,
   "metadata": {},
   "outputs": [],
   "source": [
    "# Divide `bathrooms_text` column into `num` & `type`\n",
    "NEW_COLUMNS = ['bathroom_type', 'bathroom_num']\n",
    "for col in NEW_COLUMNS:\n",
    "    listings_df[col] = listings_df[\"bathrooms_text\"].map(lambda x: cln.bath_clean(x)[col])\n",
    "\n",
    "listings_df = listings_df.join(pd.get_dummies(listings_df[\"bathroom_type\"])).drop([\"bathrooms_text\"], axis=1)"
   ]
  },
  {
   "attachments": {},
   "cell_type": "markdown",
   "metadata": {},
   "source": [
    "#### *Convert `true/false` categorical columns to one-hot vectors*"
   ]
  },
  {
   "cell_type": "code",
   "execution_count": 6,
   "metadata": {},
   "outputs": [],
   "source": [
    "TRUE_FALSE = ['has_availability', 'instant_bookable', \"host_is_superhost\"]\n",
    "ONE_HOT_VECTORS = ['license']\n",
    "\n",
    "# Convert all t/f columns to true/false & add them to the ONE_HOT_VECTORS list\n",
    "for tf in TRUE_FALSE:\n",
    "    listings_df.loc[listings_df[tf] == 't', tf] = f\"{tf}_true\"\n",
    "    listings_df.loc[listings_df[tf] == 'f', tf] = f\"{tf}_false\"\n",
    "    ONE_HOT_VECTORS.append(tf)\n",
    "\n",
    "\n",
    "# Convert all categorical columns into one-hot vectors\n",
    "listings_df = listings_df.join(pd.get_dummies(listings_df[ONE_HOT_VECTORS])).drop(ONE_HOT_VECTORS, axis=1)"
   ]
  },
  {
   "cell_type": "markdown",
   "metadata": {},
   "source": [
    "#### *Remove all $0 listings and listings with z-score over +/-2.5*"
   ]
  },
  {
   "cell_type": "code",
   "execution_count": 7,
   "metadata": {},
   "outputs": [
    {
     "data": {
      "text/html": [
       "<div>\n",
       "<style scoped>\n",
       "    .dataframe tbody tr th:only-of-type {\n",
       "        vertical-align: middle;\n",
       "    }\n",
       "\n",
       "    .dataframe tbody tr th {\n",
       "        vertical-align: top;\n",
       "    }\n",
       "\n",
       "    .dataframe thead th {\n",
       "        text-align: right;\n",
       "    }\n",
       "</style>\n",
       "<table border=\"1\" class=\"dataframe\">\n",
       "  <thead>\n",
       "    <tr style=\"text-align: right;\">\n",
       "      <th></th>\n",
       "      <th>id</th>\n",
       "      <th>latitude</th>\n",
       "      <th>longitude</th>\n",
       "      <th>accommodates</th>\n",
       "      <th>bedrooms</th>\n",
       "      <th>beds</th>\n",
       "      <th>price</th>\n",
       "      <th>minimum_nights</th>\n",
       "      <th>maximum_nights</th>\n",
       "      <th>maximum_nights_avg_ntm</th>\n",
       "      <th>...</th>\n",
       "      <th>license_exempted</th>\n",
       "      <th>license_have</th>\n",
       "      <th>license_none</th>\n",
       "      <th>has_availability_has_availability_false</th>\n",
       "      <th>has_availability_has_availability_true</th>\n",
       "      <th>instant_bookable_instant_bookable_false</th>\n",
       "      <th>instant_bookable_instant_bookable_true</th>\n",
       "      <th>host_is_superhost_host_is_superhost_false</th>\n",
       "      <th>host_is_superhost_host_is_superhost_true</th>\n",
       "      <th>price_zscore</th>\n",
       "    </tr>\n",
       "  </thead>\n",
       "  <tbody>\n",
       "    <tr>\n",
       "      <th>count</th>\n",
       "      <td>4.521400e+04</td>\n",
       "      <td>45214.000000</td>\n",
       "      <td>45214.000000</td>\n",
       "      <td>45214.000000</td>\n",
       "      <td>41484.000000</td>\n",
       "      <td>44445.000000</td>\n",
       "      <td>45214.000000</td>\n",
       "      <td>45214.000000</td>\n",
       "      <td>45214.000000</td>\n",
       "      <td>4.521400e+04</td>\n",
       "      <td>...</td>\n",
       "      <td>45214.000000</td>\n",
       "      <td>45214.000000</td>\n",
       "      <td>45214.000000</td>\n",
       "      <td>45214.000000</td>\n",
       "      <td>45214.000000</td>\n",
       "      <td>45214.000000</td>\n",
       "      <td>45214.000000</td>\n",
       "      <td>45214.000000</td>\n",
       "      <td>45214.000000</td>\n",
       "      <td>45214.000000</td>\n",
       "    </tr>\n",
       "    <tr>\n",
       "      <th>mean</th>\n",
       "      <td>1.637819e+17</td>\n",
       "      <td>33.990167</td>\n",
       "      <td>-118.237441</td>\n",
       "      <td>4.067789</td>\n",
       "      <td>1.825523</td>\n",
       "      <td>2.280031</td>\n",
       "      <td>232.262858</td>\n",
       "      <td>17.878113</td>\n",
       "      <td>579.489295</td>\n",
       "      <td>4.467158e+05</td>\n",
       "      <td>...</td>\n",
       "      <td>0.023400</td>\n",
       "      <td>0.237471</td>\n",
       "      <td>0.739129</td>\n",
       "      <td>0.078560</td>\n",
       "      <td>0.921440</td>\n",
       "      <td>0.619498</td>\n",
       "      <td>0.380502</td>\n",
       "      <td>0.702327</td>\n",
       "      <td>0.296921</td>\n",
       "      <td>-0.080546</td>\n",
       "    </tr>\n",
       "    <tr>\n",
       "      <th>std</th>\n",
       "      <td>2.796691e+17</td>\n",
       "      <td>0.190991</td>\n",
       "      <td>0.235640</td>\n",
       "      <td>2.831597</td>\n",
       "      <td>1.164331</td>\n",
       "      <td>1.716960</td>\n",
       "      <td>259.203331</td>\n",
       "      <td>30.248155</td>\n",
       "      <td>664.987864</td>\n",
       "      <td>3.023124e+07</td>\n",
       "      <td>...</td>\n",
       "      <td>0.151171</td>\n",
       "      <td>0.425538</td>\n",
       "      <td>0.439114</td>\n",
       "      <td>0.269053</td>\n",
       "      <td>0.269053</td>\n",
       "      <td>0.485516</td>\n",
       "      <td>0.485516</td>\n",
       "      <td>0.457240</td>\n",
       "      <td>0.456907</td>\n",
       "      <td>0.359869</td>\n",
       "    </tr>\n",
       "    <tr>\n",
       "      <th>min</th>\n",
       "      <td>1.090000e+02</td>\n",
       "      <td>33.338480</td>\n",
       "      <td>-118.961700</td>\n",
       "      <td>1.000000</td>\n",
       "      <td>1.000000</td>\n",
       "      <td>1.000000</td>\n",
       "      <td>10.000000</td>\n",
       "      <td>1.000000</td>\n",
       "      <td>1.000000</td>\n",
       "      <td>1.000000e+00</td>\n",
       "      <td>...</td>\n",
       "      <td>0.000000</td>\n",
       "      <td>0.000000</td>\n",
       "      <td>0.000000</td>\n",
       "      <td>0.000000</td>\n",
       "      <td>0.000000</td>\n",
       "      <td>0.000000</td>\n",
       "      <td>0.000000</td>\n",
       "      <td>0.000000</td>\n",
       "      <td>0.000000</td>\n",
       "      <td>-0.389128</td>\n",
       "    </tr>\n",
       "    <tr>\n",
       "      <th>25%</th>\n",
       "      <td>2.381052e+07</td>\n",
       "      <td>33.892572</td>\n",
       "      <td>-118.394588</td>\n",
       "      <td>2.000000</td>\n",
       "      <td>1.000000</td>\n",
       "      <td>1.000000</td>\n",
       "      <td>90.000000</td>\n",
       "      <td>2.000000</td>\n",
       "      <td>90.000000</td>\n",
       "      <td>3.650000e+02</td>\n",
       "      <td>...</td>\n",
       "      <td>0.000000</td>\n",
       "      <td>0.000000</td>\n",
       "      <td>0.000000</td>\n",
       "      <td>0.000000</td>\n",
       "      <td>1.000000</td>\n",
       "      <td>0.000000</td>\n",
       "      <td>0.000000</td>\n",
       "      <td>0.000000</td>\n",
       "      <td>0.000000</td>\n",
       "      <td>-0.278058</td>\n",
       "    </tr>\n",
       "    <tr>\n",
       "      <th>50%</th>\n",
       "      <td>4.517365e+07</td>\n",
       "      <td>34.043690</td>\n",
       "      <td>-118.312715</td>\n",
       "      <td>3.000000</td>\n",
       "      <td>1.000000</td>\n",
       "      <td>2.000000</td>\n",
       "      <td>150.000000</td>\n",
       "      <td>7.000000</td>\n",
       "      <td>365.000000</td>\n",
       "      <td>1.125000e+03</td>\n",
       "      <td>...</td>\n",
       "      <td>0.000000</td>\n",
       "      <td>0.000000</td>\n",
       "      <td>1.000000</td>\n",
       "      <td>0.000000</td>\n",
       "      <td>1.000000</td>\n",
       "      <td>1.000000</td>\n",
       "      <td>0.000000</td>\n",
       "      <td>1.000000</td>\n",
       "      <td>0.000000</td>\n",
       "      <td>-0.194757</td>\n",
       "    </tr>\n",
       "    <tr>\n",
       "      <th>75%</th>\n",
       "      <td>5.487822e+17</td>\n",
       "      <td>34.099947</td>\n",
       "      <td>-118.080682</td>\n",
       "      <td>6.000000</td>\n",
       "      <td>2.000000</td>\n",
       "      <td>3.000000</td>\n",
       "      <td>264.000000</td>\n",
       "      <td>30.000000</td>\n",
       "      <td>1125.000000</td>\n",
       "      <td>1.125000e+03</td>\n",
       "      <td>...</td>\n",
       "      <td>0.000000</td>\n",
       "      <td>0.000000</td>\n",
       "      <td>1.000000</td>\n",
       "      <td>0.000000</td>\n",
       "      <td>1.000000</td>\n",
       "      <td>1.000000</td>\n",
       "      <td>1.000000</td>\n",
       "      <td>1.000000</td>\n",
       "      <td>1.000000</td>\n",
       "      <td>-0.036483</td>\n",
       "    </tr>\n",
       "    <tr>\n",
       "      <th>max</th>\n",
       "      <td>7.118480e+17</td>\n",
       "      <td>34.822060</td>\n",
       "      <td>-117.627790</td>\n",
       "      <td>16.000000</td>\n",
       "      <td>24.000000</td>\n",
       "      <td>32.000000</td>\n",
       "      <td>2085.000000</td>\n",
       "      <td>1124.000000</td>\n",
       "      <td>99999.000000</td>\n",
       "      <td>2.147484e+09</td>\n",
       "      <td>...</td>\n",
       "      <td>1.000000</td>\n",
       "      <td>1.000000</td>\n",
       "      <td>1.000000</td>\n",
       "      <td>1.000000</td>\n",
       "      <td>1.000000</td>\n",
       "      <td>1.000000</td>\n",
       "      <td>1.000000</td>\n",
       "      <td>1.000000</td>\n",
       "      <td>1.000000</td>\n",
       "      <td>2.491728</td>\n",
       "    </tr>\n",
       "  </tbody>\n",
       "</table>\n",
       "<p>8 rows × 39 columns</p>\n",
       "</div>"
      ],
      "text/plain": [
       "                 id      latitude     longitude  accommodates      bedrooms  \\\n",
       "count  4.521400e+04  45214.000000  45214.000000  45214.000000  41484.000000   \n",
       "mean   1.637819e+17     33.990167   -118.237441      4.067789      1.825523   \n",
       "std    2.796691e+17      0.190991      0.235640      2.831597      1.164331   \n",
       "min    1.090000e+02     33.338480   -118.961700      1.000000      1.000000   \n",
       "25%    2.381052e+07     33.892572   -118.394588      2.000000      1.000000   \n",
       "50%    4.517365e+07     34.043690   -118.312715      3.000000      1.000000   \n",
       "75%    5.487822e+17     34.099947   -118.080682      6.000000      2.000000   \n",
       "max    7.118480e+17     34.822060   -117.627790     16.000000     24.000000   \n",
       "\n",
       "               beds         price  minimum_nights  maximum_nights  \\\n",
       "count  44445.000000  45214.000000    45214.000000    45214.000000   \n",
       "mean       2.280031    232.262858       17.878113      579.489295   \n",
       "std        1.716960    259.203331       30.248155      664.987864   \n",
       "min        1.000000     10.000000        1.000000        1.000000   \n",
       "25%        1.000000     90.000000        2.000000       90.000000   \n",
       "50%        2.000000    150.000000        7.000000      365.000000   \n",
       "75%        3.000000    264.000000       30.000000     1125.000000   \n",
       "max       32.000000   2085.000000     1124.000000    99999.000000   \n",
       "\n",
       "       maximum_nights_avg_ntm  ...  license_exempted  license_have  \\\n",
       "count            4.521400e+04  ...      45214.000000  45214.000000   \n",
       "mean             4.467158e+05  ...          0.023400      0.237471   \n",
       "std              3.023124e+07  ...          0.151171      0.425538   \n",
       "min              1.000000e+00  ...          0.000000      0.000000   \n",
       "25%              3.650000e+02  ...          0.000000      0.000000   \n",
       "50%              1.125000e+03  ...          0.000000      0.000000   \n",
       "75%              1.125000e+03  ...          0.000000      0.000000   \n",
       "max              2.147484e+09  ...          1.000000      1.000000   \n",
       "\n",
       "       license_none  has_availability_has_availability_false  \\\n",
       "count  45214.000000                             45214.000000   \n",
       "mean       0.739129                                 0.078560   \n",
       "std        0.439114                                 0.269053   \n",
       "min        0.000000                                 0.000000   \n",
       "25%        0.000000                                 0.000000   \n",
       "50%        1.000000                                 0.000000   \n",
       "75%        1.000000                                 0.000000   \n",
       "max        1.000000                                 1.000000   \n",
       "\n",
       "       has_availability_has_availability_true  \\\n",
       "count                            45214.000000   \n",
       "mean                                 0.921440   \n",
       "std                                  0.269053   \n",
       "min                                  0.000000   \n",
       "25%                                  1.000000   \n",
       "50%                                  1.000000   \n",
       "75%                                  1.000000   \n",
       "max                                  1.000000   \n",
       "\n",
       "       instant_bookable_instant_bookable_false  \\\n",
       "count                             45214.000000   \n",
       "mean                                  0.619498   \n",
       "std                                   0.485516   \n",
       "min                                   0.000000   \n",
       "25%                                   0.000000   \n",
       "50%                                   1.000000   \n",
       "75%                                   1.000000   \n",
       "max                                   1.000000   \n",
       "\n",
       "       instant_bookable_instant_bookable_true  \\\n",
       "count                            45214.000000   \n",
       "mean                                 0.380502   \n",
       "std                                  0.485516   \n",
       "min                                  0.000000   \n",
       "25%                                  0.000000   \n",
       "50%                                  0.000000   \n",
       "75%                                  1.000000   \n",
       "max                                  1.000000   \n",
       "\n",
       "       host_is_superhost_host_is_superhost_false  \\\n",
       "count                               45214.000000   \n",
       "mean                                    0.702327   \n",
       "std                                     0.457240   \n",
       "min                                     0.000000   \n",
       "25%                                     0.000000   \n",
       "50%                                     1.000000   \n",
       "75%                                     1.000000   \n",
       "max                                     1.000000   \n",
       "\n",
       "       host_is_superhost_host_is_superhost_true  price_zscore  \n",
       "count                              45214.000000  45214.000000  \n",
       "mean                                   0.296921     -0.080546  \n",
       "std                                    0.456907      0.359869  \n",
       "min                                    0.000000     -0.389128  \n",
       "25%                                    0.000000     -0.278058  \n",
       "50%                                    0.000000     -0.194757  \n",
       "75%                                    1.000000     -0.036483  \n",
       "max                                    1.000000      2.491728  \n",
       "\n",
       "[8 rows x 39 columns]"
      ]
     },
     "execution_count": 7,
     "metadata": {},
     "output_type": "execute_result"
    }
   ],
   "source": [
    "# Add a 'price_zscore' column of all listings with price other than $0\n",
    "listings_df['price_zscore'] = scp.stats.zscore(listings_df[listings_df['price'] != 0]['price'])\n",
    "\n",
    "# Remove all rows with a price z-score of more than +-2.5\n",
    "listings_df = listings_df[abs(listings_df[\"price_zscore\"]) < 2.5]\n",
    "\n",
    "listings_df.describe()"
   ]
  },
  {
   "cell_type": "markdown",
   "metadata": {},
   "source": [
    "#### *Convert all `amenities` rows to `list[str]` & eliminate all values within each amenities list that are less than 50% frequency*"
   ]
  },
  {
   "cell_type": "code",
   "execution_count": 22,
   "metadata": {},
   "outputs": [],
   "source": [
    "# For more documentation on these functions, check `airbnblib/cleaning.py`\n",
    "listings_df['amenities'] = [cln.amenities_clean(row) for row in listings_df['amenities']]\n",
    "all_amenities = cln.all_amenities(listings_df['amenities'])\n",
    "\n",
    "for dummy in all_amenities:\n",
    "    new_col = [\n",
    "        1 if dummy in each_listing else 0\n",
    "        for each_listing in listings_df['amenities']\n",
    "    ]\n",
    "    if sum(new_col) > 22901:\n",
    "        listings_df[\"amenities_\" + dummy.lower().replace(' ','_')] = new_col\n",
    "    else:\n",
    "        all_amenities.remove(dummy)\n",
    "listings_df.pop('amenities')"
   ]
  },
  {
   "attachments": {},
   "cell_type": "markdown",
   "metadata": {},
   "source": [
    "#### *Extract listings zip code using using `latitude` and `longitude` columns*\n",
    "*Caution:* This process will take a very long time, possibly over half a day. It is best advised to only run this process once"
   ]
  },
  {
   "cell_type": "code",
   "execution_count": 12,
   "metadata": {},
   "outputs": [],
   "source": [
    "# For more documentation on these functions, check `airbnblib/cleaning.py`\n",
    "# listings_df[\"address\"] = [\n",
    "#     cln.get_zip_code(listings_df['latitude'].to_list()[i], listings_df['longitude'].to_list()[i])\n",
    "#     for i in range(len(listings_df['latitude'].to_list()))\n",
    "# ]\n",
    "\n",
    "listings_df[\"address\"] = \"{0:}, {1}\".format(listings_df['latitude'], listings_df['longitude'])"
   ]
  },
  {
   "cell_type": "code",
   "execution_count": 13,
   "metadata": {},
   "outputs": [
    {
     "data": {
      "text/plain": [
       "0    0        33.99211\\n1        34.12206\\n2       ...\n",
       "1    0        33.99211\\n1        34.12206\\n2       ...\n",
       "2    0        33.99211\\n1        34.12206\\n2       ...\n",
       "3    0        33.99211\\n1        34.12206\\n2       ...\n",
       "4    0        33.99211\\n1        34.12206\\n2       ...\n",
       "Name: address, dtype: object"
      ]
     },
     "execution_count": 13,
     "metadata": {},
     "output_type": "execute_result"
    }
   ],
   "source": [
    "listings_df['address'].head()"
   ]
  },
  {
   "attachments": {},
   "cell_type": "markdown",
   "metadata": {},
   "source": [
    "<h2 align=\"center\">Tools for Referencing</h2>\n",
    "\n",
    "---\n",
    "#### **Export DataFrame to CSV**\n",
    "Please close Excel or any other application that's opening the destination CSV before exporting, otherwise you'll get `[Errno 13] Permission Denied`"
   ]
  },
  {
   "cell_type": "code",
   "execution_count": 24,
   "metadata": {},
   "outputs": [],
   "source": [
    "from datetime import datetime\n",
    "\n",
    "today = str(datetime.now()).split(\" \")[0].replace('-', '')\n",
    "listings_df.to_csv(f\"dataset/dataset_cleaned_{today}.csv\", index=False)"
   ]
  },
  {
   "attachments": {},
   "cell_type": "markdown",
   "metadata": {},
   "source": [
    "#### **Export DataFrame to Parquet**"
   ]
  },
  {
   "cell_type": "code",
   "execution_count": 13,
   "metadata": {},
   "outputs": [],
   "source": [
    "listings_df.to_parquet(\"../dataset_zipped/listings.parquet\")"
   ]
  },
  {
   "cell_type": "markdown",
   "metadata": {},
   "source": [
    "#### **Check for unique variables in each column**"
   ]
  },
  {
   "cell_type": "code",
   "execution_count": null,
   "metadata": {},
   "outputs": [],
   "source": [
    "col_name = input(\"Enter column name here: \")\n",
    "display_list = []\n",
    "for row in listings_df[col_name]: \n",
    "    if row not in display_list:\n",
    "        display_list.append(row)\n",
    "\n",
    "display_list"
   ]
  },
  {
   "cell_type": "markdown",
   "metadata": {},
   "source": [
    "#### **Find percentage in of certain values**"
   ]
  },
  {
   "cell_type": "code",
   "execution_count": null,
   "metadata": {},
   "outputs": [],
   "source": [
    "PERCENTAGES = {\n",
    "    \"sum\": 0\n",
    "}\n",
    "\n",
    "listings_df.loc[listings_df[\"host_identity_verified\"].isnull(), \"host_identity_verified\"] = \"na\"\n",
    "\n",
    "for row in listings_df['host_identity_verified']:\n",
    "    if row not in PERCENTAGES:\n",
    "        PERCENTAGES[row] = 0\n",
    "    PERCENTAGES[row] += 1\n",
    "    PERCENTAGES[\"sum\"] += 1\n",
    "    \n",
    "print(\"Percentage: \" + str(\n",
    "    PERCENTAGES[\"t\"] / PERCENTAGES['sum']\n",
    "))"
   ]
  },
  {
   "cell_type": "markdown",
   "metadata": {},
   "source": [
    "#### **Find data type of certain columns**"
   ]
  },
  {
   "cell_type": "code",
   "execution_count": null,
   "metadata": {},
   "outputs": [],
   "source": [
    "col_name = input(\"Enter column name here: \")\n",
    "print(type(listings_df[col_name].to_list()[0]))"
   ]
  },
  {
   "cell_type": "code",
   "execution_count": 2,
   "metadata": {},
   "outputs": [
    {
     "ename": "NameError",
     "evalue": "name 'listings_df' is not defined",
     "output_type": "error",
     "traceback": [
      "\u001b[1;31m---------------------------------------------------------------------------\u001b[0m",
      "\u001b[1;31mNameError\u001b[0m                                 Traceback (most recent call last)",
      "Cell \u001b[1;32mIn [2], line 1\u001b[0m\n\u001b[1;32m----> 1\u001b[0m listings_df\u001b[39m.\u001b[39minfo()\n",
      "\u001b[1;31mNameError\u001b[0m: name 'listings_df' is not defined"
     ]
    }
   ],
   "source": [
    "listings_df.info()"
   ]
  },
  {
   "cell_type": "code",
   "execution_count": null,
   "metadata": {},
   "outputs": [],
   "source": []
  }
 ],
 "metadata": {
  "kernelspec": {
   "display_name": "Python 3.10.6 64-bit",
   "language": "python",
   "name": "python3"
  },
  "language_info": {
   "codemirror_mode": {
    "name": "ipython",
    "version": 3
   },
   "file_extension": ".py",
   "mimetype": "text/x-python",
   "name": "python",
   "nbconvert_exporter": "python",
   "pygments_lexer": "ipython3",
   "version": "3.10.6"
  },
  "orig_nbformat": 4,
  "vscode": {
   "interpreter": {
    "hash": "31ae5793047d30b35e94f1d6ff8b178f9f7aa7aa449c0b5e996a066a7e57100c"
   }
  }
 },
 "nbformat": 4,
 "nbformat_minor": 2
}
