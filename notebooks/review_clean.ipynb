{
 "cells": [
  {
   "attachments": {},
   "cell_type": "markdown",
   "metadata": {},
   "source": [
    "<div align=\"center\">\n",
    "\n",
    "# RIO Airbnb Project - Reviews Clean\n",
    "**Latest Update:** *15th March 2023*\n",
    "\n",
    "</div>\n",
    "\n",
    "---"
   ]
  },
  {
   "cell_type": "code",
   "execution_count": 1,
   "metadata": {},
   "outputs": [],
   "source": [
    "import sys, os\n",
    "sys.path.append(os.path.abspath(\"../\"))\n",
    "\n",
    "import pandas as pd"
   ]
  },
  {
   "cell_type": "code",
   "execution_count": 2,
   "metadata": {},
   "outputs": [],
   "source": [
    "reviews_df = pd.read_csv(\"../dataset/reviews/reviews.csv\", index_col=False)"
   ]
  },
  {
   "cell_type": "code",
   "execution_count": 3,
   "metadata": {},
   "outputs": [
    {
     "data": {
      "text/plain": [
       "'listings_cleaned_20230315.csv'"
      ]
     },
     "execution_count": 3,
     "metadata": {},
     "output_type": "execute_result"
    }
   ],
   "source": [
    "# Import raw CSV of latest version\n",
    "newest_listing_csv = os.listdir(\"../dataset/listings/\")[-1]\n",
    "listings_df = pd.read_csv(f\"../dataset/listings/{newest_listing_csv}\")\n",
    "\n",
    "newest_listing_csv"
   ]
  },
  {
   "cell_type": "code",
   "execution_count": 3,
   "metadata": {},
   "outputs": [
    {
     "data": {
      "text/plain": [
       "'listings_cleaned_20230303.zip'"
      ]
     },
     "execution_count": 3,
     "metadata": {},
     "output_type": "execute_result"
    }
   ],
   "source": [
    "# Import zipped CSV of latest version\n",
    "newest_listing_zip = os.listdir(\"../dataset_zipped/listings/\")[-1]\n",
    "listings_df = pd.read_csv(f\"../dataset_zipped/listings/{newest_listing_zip}\")\n",
    "\n",
    "newest_listing_zip"
   ]
  },
  {
   "cell_type": "code",
   "execution_count": 4,
   "metadata": {},
   "outputs": [
    {
     "data": {
      "text/plain": [
       "0    183319.0\n",
       "1     51307.0\n",
       "2    184314.0\n",
       "3     51498.0\n",
       "4       109.0\n",
       "Name: id, dtype: float64"
      ]
     },
     "execution_count": 4,
     "metadata": {},
     "output_type": "execute_result"
    }
   ],
   "source": [
    "listings_df['id'].head()"
   ]
  },
  {
   "cell_type": "code",
   "execution_count": 5,
   "metadata": {},
   "outputs": [
    {
     "data": {
      "text/plain": [
       "1557391"
      ]
     },
     "execution_count": 5,
     "metadata": {},
     "output_type": "execute_result"
    }
   ],
   "source": [
    "reviews_filtered = reviews_df[reviews_df['listing_id'].isin(listings_df['id'].unique())]\n",
    "\n",
    "len(reviews_filtered)"
   ]
  },
  {
   "cell_type": "code",
   "execution_count": 38,
   "metadata": {},
   "outputs": [],
   "source": [
    "reviews_with_listing_df = {\n",
    "  'review': [],\n",
    "  'listing_id': [],\n",
    "  'price': []\n",
    "}\n",
    "\n",
    "for rev in reviews_filtered.index.to_list():\n",
    "  reviews_with_listing_df['review'].append(reviews_filtered['comments'][rev])\n",
    "  \n",
    "  reviews_with_listing_df['listing_id'].append(reviews_filtered['listing_id'][rev])\n",
    "  \n",
    "  reviews_with_listing_df['price'].append(\n",
    "    list(listings_df[listings_df['id'] == reviews_filtered['listing_id'][rev]]['price'])[0]\n",
    "  )\n",
    "\n",
    "reviews_with_listing_df = pd.DataFrame(reviews_with_listing_df)"
   ]
  },
  {
   "cell_type": "code",
   "execution_count": 40,
   "metadata": {},
   "outputs": [
    {
     "data": {
      "text/html": [
       "<div>\n",
       "<style scoped>\n",
       "    .dataframe tbody tr th:only-of-type {\n",
       "        vertical-align: middle;\n",
       "    }\n",
       "\n",
       "    .dataframe tbody tr th {\n",
       "        vertical-align: top;\n",
       "    }\n",
       "\n",
       "    .dataframe thead th {\n",
       "        text-align: right;\n",
       "    }\n",
       "</style>\n",
       "<table border=\"1\" class=\"dataframe\">\n",
       "  <thead>\n",
       "    <tr style=\"text-align: right;\">\n",
       "      <th></th>\n",
       "      <th>price</th>\n",
       "      <th>listing_id</th>\n",
       "      <th>review</th>\n",
       "    </tr>\n",
       "  </thead>\n",
       "  <tbody>\n",
       "    <tr>\n",
       "      <th>0</th>\n",
       "      <td>115.0</td>\n",
       "      <td>109</td>\n",
       "      <td>The host canceled my reservation the day befor...</td>\n",
       "    </tr>\n",
       "    <tr>\n",
       "      <th>1</th>\n",
       "      <td>115.0</td>\n",
       "      <td>109</td>\n",
       "      <td>Me and two friends stayed for four and a half ...</td>\n",
       "    </tr>\n",
       "    <tr>\n",
       "      <th>2</th>\n",
       "      <td>93.0</td>\n",
       "      <td>2708</td>\n",
       "      <td>i had a wonderful stay. Everything from start ...</td>\n",
       "    </tr>\n",
       "    <tr>\n",
       "      <th>3</th>\n",
       "      <td>152.0</td>\n",
       "      <td>183319</td>\n",
       "      <td>very nice and cozy apartment, well located in ...</td>\n",
       "    </tr>\n",
       "    <tr>\n",
       "      <th>4</th>\n",
       "      <td>152.0</td>\n",
       "      <td>183319</td>\n",
       "      <td>We loved the experience. The location couldn't...</td>\n",
       "    </tr>\n",
       "    <tr>\n",
       "      <th>...</th>\n",
       "      <td>...</td>\n",
       "      <td>...</td>\n",
       "      <td>...</td>\n",
       "    </tr>\n",
       "    <tr>\n",
       "      <th>1549980</th>\n",
       "      <td>209.0</td>\n",
       "      <td>19473980</td>\n",
       "      <td>Great location! Would recommend it to anyone w...</td>\n",
       "    </tr>\n",
       "    <tr>\n",
       "      <th>1549981</th>\n",
       "      <td>209.0</td>\n",
       "      <td>19473980</td>\n",
       "      <td>What a perfect place to explore Balboa Peninsu...</td>\n",
       "    </tr>\n",
       "    <tr>\n",
       "      <th>1549982</th>\n",
       "      <td>209.0</td>\n",
       "      <td>19473980</td>\n",
       "      <td>Great spot in an even better location! Clean a...</td>\n",
       "    </tr>\n",
       "    <tr>\n",
       "      <th>1549983</th>\n",
       "      <td>209.0</td>\n",
       "      <td>19473980</td>\n",
       "      <td>The condo was comfortable and clean. It’s very...</td>\n",
       "    </tr>\n",
       "    <tr>\n",
       "      <th>1549984</th>\n",
       "      <td>209.0</td>\n",
       "      <td>19473980</td>\n",
       "      <td>Mike was great, responded with a timely manner...</td>\n",
       "    </tr>\n",
       "  </tbody>\n",
       "</table>\n",
       "<p>1549985 rows × 3 columns</p>\n",
       "</div>"
      ],
      "text/plain": [
       "         price  listing_id                                             review\n",
       "0        115.0         109  The host canceled my reservation the day befor...\n",
       "1        115.0         109  Me and two friends stayed for four and a half ...\n",
       "2         93.0        2708  i had a wonderful stay. Everything from start ...\n",
       "3        152.0      183319  very nice and cozy apartment, well located in ...\n",
       "4        152.0      183319  We loved the experience. The location couldn't...\n",
       "...        ...         ...                                                ...\n",
       "1549980  209.0    19473980  Great location! Would recommend it to anyone w...\n",
       "1549981  209.0    19473980  What a perfect place to explore Balboa Peninsu...\n",
       "1549982  209.0    19473980  Great spot in an even better location! Clean a...\n",
       "1549983  209.0    19473980  The condo was comfortable and clean. It’s very...\n",
       "1549984  209.0    19473980  Mike was great, responded with a timely manner...\n",
       "\n",
       "[1549985 rows x 3 columns]"
      ]
     },
     "execution_count": 40,
     "metadata": {},
     "output_type": "execute_result"
    }
   ],
   "source": [
    "cols = reviews_with_listing_df.columns.to_list()[::-1]\n",
    "reviews_with_listing_df = reviews_with_listing_df[cols]\n",
    "reviews_with_listing_df"
   ]
  },
  {
   "cell_type": "code",
   "execution_count": 45,
   "metadata": {},
   "outputs": [
    {
     "data": {
      "text/html": [
       "<div>\n",
       "<style scoped>\n",
       "    .dataframe tbody tr th:only-of-type {\n",
       "        vertical-align: middle;\n",
       "    }\n",
       "\n",
       "    .dataframe tbody tr th {\n",
       "        vertical-align: top;\n",
       "    }\n",
       "\n",
       "    .dataframe thead th {\n",
       "        text-align: right;\n",
       "    }\n",
       "</style>\n",
       "<table border=\"1\" class=\"dataframe\">\n",
       "  <thead>\n",
       "    <tr style=\"text-align: right;\">\n",
       "      <th></th>\n",
       "      <th>id</th>\n",
       "      <th>reviews_available</th>\n",
       "      <th>number_of_reviews</th>\n",
       "    </tr>\n",
       "  </thead>\n",
       "  <tbody>\n",
       "    <tr>\n",
       "      <th>0</th>\n",
       "      <td>183319.0</td>\n",
       "      <td>3</td>\n",
       "      <td>3</td>\n",
       "    </tr>\n",
       "    <tr>\n",
       "      <th>1</th>\n",
       "      <td>51307.0</td>\n",
       "      <td>138</td>\n",
       "      <td>138</td>\n",
       "    </tr>\n",
       "    <tr>\n",
       "      <th>2</th>\n",
       "      <td>184314.0</td>\n",
       "      <td>30</td>\n",
       "      <td>30</td>\n",
       "    </tr>\n",
       "    <tr>\n",
       "      <th>3</th>\n",
       "      <td>51498.0</td>\n",
       "      <td>378</td>\n",
       "      <td>378</td>\n",
       "    </tr>\n",
       "    <tr>\n",
       "      <th>4</th>\n",
       "      <td>109.0</td>\n",
       "      <td>2</td>\n",
       "      <td>2</td>\n",
       "    </tr>\n",
       "    <tr>\n",
       "      <th>5</th>\n",
       "      <td>185536.0</td>\n",
       "      <td>13</td>\n",
       "      <td>13</td>\n",
       "    </tr>\n",
       "    <tr>\n",
       "      <th>6</th>\n",
       "      <td>2708.0</td>\n",
       "      <td>37</td>\n",
       "      <td>37</td>\n",
       "    </tr>\n",
       "    <tr>\n",
       "      <th>7</th>\n",
       "      <td>51546.0</td>\n",
       "      <td>188</td>\n",
       "      <td>188</td>\n",
       "    </tr>\n",
       "    <tr>\n",
       "      <th>8</th>\n",
       "      <td>185557.0</td>\n",
       "      <td>12</td>\n",
       "      <td>12</td>\n",
       "    </tr>\n",
       "    <tr>\n",
       "      <th>9</th>\n",
       "      <td>2732.0</td>\n",
       "      <td>24</td>\n",
       "      <td>24</td>\n",
       "    </tr>\n",
       "  </tbody>\n",
       "</table>\n",
       "</div>"
      ],
      "text/plain": [
       "         id  reviews_available  number_of_reviews\n",
       "0  183319.0                  3                  3\n",
       "1   51307.0                138                138\n",
       "2  184314.0                 30                 30\n",
       "3   51498.0                378                378\n",
       "4     109.0                  2                  2\n",
       "5  185536.0                 13                 13\n",
       "6    2708.0                 37                 37\n",
       "7   51546.0                188                188\n",
       "8  185557.0                 12                 12\n",
       "9    2732.0                 24                 24"
      ]
     },
     "execution_count": 45,
     "metadata": {},
     "output_type": "execute_result"
    }
   ],
   "source": [
    "listings_df['reviews_available'] = [\n",
    "  reviews_with_listing_df[reviews_with_listing_df['listing_id'] == id]['review'].count()\n",
    "  for id in listings_df['id']\n",
    "]\n",
    "\n",
    "listings_df[['id', 'reviews_available', 'number_of_reviews']].head(10)"
   ]
  },
  {
   "cell_type": "code",
   "execution_count": 50,
   "metadata": {},
   "outputs": [
    {
     "name": "stdout",
     "output_type": "stream",
     "text": [
      "before: 45008\n",
      "before: 20872\n"
     ]
    }
   ],
   "source": [
    "new_df = listings_df.copy()\n",
    "\n",
    "for i in range(len(listings_df['reviews_available'])):\n",
    "  if listings_df['reviews_available'][i] != listings_df['number_of_reviews'][i]:\n",
    "    try:\n",
    "      new_df = new_df[new_df['reviews_available'] != new_df['number_of_reviews'][i]]\n",
    "    except KeyError:\n",
    "      pass\n",
    "\n",
    "print(f'before: {listings_df.id.count()}')\n",
    "print(f'before: {new_df.id.count()}')"
   ]
  },
  {
   "cell_type": "code",
   "execution_count": null,
   "metadata": {},
   "outputs": [],
   "source": []
  }
 ],
 "metadata": {
  "kernelspec": {
   "display_name": "env",
   "language": "python",
   "name": "python3"
  },
  "language_info": {
   "codemirror_mode": {
    "name": "ipython",
    "version": 3
   },
   "file_extension": ".py",
   "mimetype": "text/x-python",
   "name": "python",
   "nbconvert_exporter": "python",
   "pygments_lexer": "ipython3",
   "version": "3.10.6"
  },
  "orig_nbformat": 4
 },
 "nbformat": 4,
 "nbformat_minor": 2
}
